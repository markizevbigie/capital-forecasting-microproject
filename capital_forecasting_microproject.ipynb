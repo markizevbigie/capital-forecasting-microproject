{
 "cells": [
  {
   "cell_type": "markdown",
   "id": "d7ae9413-7559-4849-bb17-d84519926571",
   "metadata": {},
   "source": [
    "**Basic SQL Reminder Notes**\n",
    "\n",
    "SELECT *\n",
    "\n",
    "FROM *\n",
    "\n",
    "WHERE *\n",
    "\n",
    "\"%\" is wildcard for strings\n",
    "\n",
    "\"XOR\" for one or other, but not both\n",
    "\n",
    "ORDER BY [column name] asc/desc (asc/desc can be used after individual columns\n",
    "\n",
    "ROUND works as we understand\n",
    "--------\n",
    "\n",
    "IN for lists Example:\n",
    "-----\n",
    "SELECT name FROM bbc\n",
    "  WHERE name IN ('Sri Lanka', 'Ceylon',\n",
    "                 'Persia',    'Iran')\n",
    "\n",
    "\n",
    "**Multiple, indepnedent clauses are possible. Note the parentheses**\n",
    "\n",
    "SELECT * FROM nobel\n",
    "\n",
    "  WHERE subject IN ('physics')\n",
    "  \n",
    "  AND yr IN (1980)\n",
    "  \n",
    "  OR\n",
    "  \n",
    "  (subject IN ('chemistry')\n",
    "  AND yr IN (1984))\n",
    "\n",
    "ERD - Entity Relationship Diagram"
   ]
  },
  {
   "cell_type": "markdown",
   "id": "550a5155-29f5-4646-9959-deb17dd8f401",
   "metadata": {},
   "source": [
    "The purpose of this micro-project is to demonstrate basic SQL skills for data analysis within the domain of capital forecasting.\n",
    "\n",
    "We will create tables for fictional business units with their own balance sheets and minimum capital ratios, then project capital ratios at 4 different level of economic distress.\n",
    "\n",
    "First, we will run reload_ext sql[format differently] to use sql magic command using the ipython-sql extension. SQLite works well in Jupyter since it is lightweight and serverless, supported by ipython-sql magic, and integrates smoothly with pandas, which we will explain and get to later."
   ]
  },
  {
   "cell_type": "code",
   "execution_count": null,
   "id": "66f22ee2-eb33-4690-bd9b-2e8569713903",
   "metadata": {},
   "outputs": [],
   "source": [
    "%reload_ext sql\n",
    "%sql sqlite:///test_capital_project.db"
   ]
  },
  {
   "cell_type": "markdown",
   "id": "fb6d7d60-a793-4a40-b45b-086db3d88e51",
   "metadata": {},
   "source": [
    "We will create our tables mentioned above. We will have 4 tables:\n",
    "\n",
    "### 🗂️ Table Overview: Financial Stress Testing Scenario\n",
    "\n",
    "Below is a brief description of each table used in this project, explaining its role in our simplified stress testing model.\n",
    "\n",
    "---\n",
    "\n",
    "#### 🏢 `business_units`\n",
    "\n",
    "**Purpose**:  \n",
    "This table defines each individual business unit within the organization.  \n",
    "Each unit has a unique `unit_id` and a descriptive `unit_name`.\n",
    "\n",
    "**Why it matters**:  \n",
    "It provides a master list of business units that other tables reference.  \n",
    "Serves as the anchor for linking financial and regulatory data to specific units.\n",
    "\n",
    "---\n",
    "\n",
    "#### 📊 `balance_sheets`\n",
    "\n",
    "**Purpose**:  \n",
    "Stores the historical (or baseline) balance sheet data for each business unit.  \n",
    "Includes total `assets` and `liabilities` for a given `report_date`.\n",
    "\n",
    "**Why it matters**:  \n",
    "This is the core financial data used to evaluate how business units would perform under economic stress scenarios.  \n",
    "It forms the basis for projections.\n",
    "\n",
    "---\n",
    "\n",
    "#### 📈 `forecast_assumptions`\n",
    "\n",
    "**Purpose**:  \n",
    "Holds the stress testing assumptions for different economic scenarios.  \n",
    "Each row contains a `scenario_name` along with `asset_multiplier` and `liab_multiplier`.\n",
    "\n",
    "**Why it matters**:  \n",
    "Enables simulation of how financials might change under adverse or severely adverse conditions.  \n",
    "These multipliers are applied to the baseline balance sheet data.\n",
    "\n",
    "---\n",
    "\n",
    "#### 🛡️ `capital_buffers`\n",
    "\n",
    "**Purpose**:  \n",
    "Contains the regulatory minimum capital ratio required for each business unit.  \n",
    "Each unit has a `min_capital_ratio` associated with it.\n",
    "\n",
    "**Why it matters**:  \n",
    "Provides a benchmark to compare against projected capital ratios.  \n",
    "Used to determine whether a business unit would remain compliant under stress.\n",
    "\n",
    "---\n",
    "\n",
    "Since we are in Jupyter Notebooks I don't want to try to create redundant tables in our db file. Working in Jupyter is usually done when you want to break our code into pieces and run multiple lines over and over as you iterate. So, we will drop the tables at the begining of our CREATE TABLE statemnes. Our output should be 8 Done statements, one for each drop, and one for each create."
   ]
  },
  {
   "cell_type": "code",
   "execution_count": 106,
   "id": "a39485c5-61f1-489f-a899-78b15cc98e7d",
   "metadata": {},
   "outputs": [
    {
     "name": "stdout",
     "output_type": "stream",
     "text": [
      " * sqlite:///test_capital_project.db\n",
      "Done.\n",
      "Done.\n",
      "Done.\n",
      "Done.\n",
      "Done.\n",
      "Done.\n",
      "Done.\n",
      "Done.\n"
     ]
    },
    {
     "data": {
      "text/plain": [
       "[]"
      ]
     },
     "execution_count": 106,
     "metadata": {},
     "output_type": "execute_result"
    }
   ],
   "source": [
    "%%sql\n",
    "\n",
    "DROP TABLE IF EXISTS balance_sheets;\n",
    "DROP TABLE IF EXISTS business_units;\n",
    "DROP TABLE IF EXISTS capital_buffers;\n",
    "DROP TABLE IF EXISTS forecast_assumptions;\n",
    "\n",
    "CREATE TABLE business_units (\n",
    "    unit_id INTEGER PRIMARY KEY,\n",
    "    unit_name TEXT NOT NULL\n",
    ");\n",
    "\n",
    "CREATE TABLE balance_sheets (\n",
    "    bank_id INTEGER,\n",
    "    unit_id INTEGER,\n",
    "    report_date,\n",
    "    risk_weighted_exposure REAL,\n",
    "    cet1_capital REAL,\n",
    "    at1_capital REAL,\n",
    "    tier2_capital REAL,\n",
    "    FOREIGN KEY (unit_id) REFERENCES business_units(unit_id)\n",
    ");\n",
    "\n",
    "CREATE TABLE regulatory_requirements (\n",
    "    buffer_id INTEGER PRIMARY KEY,\n",
    "    unit_id INTEGER NOT NULL,\n",
    "    tier TEXT,\n",
    "    min_capital_ratio FLOAT NOT NULL,\n",
    "    FOREIGN KEY (unit_id) REFERENCES business_units(unit_id)\n",
    ");\n",
    "\n",
    "CREATE TABLE forecast_assumptions (\n",
    "    assumption_id INTEGER PRIMARY KEY,\n",
    "    scenario_name TEXT NOT NULL,\n",
    "    asset_multiplier FLOAT NOT NULL,\n",
    "    liab_multiplier FLOAT NOT NULL\n",
    ");"
   ]
  },
  {
   "cell_type": "markdown",
   "id": "ad4641fc-4c6c-48c2-91fc-c234267fea13",
   "metadata": {},
   "source": [
    "## 3. Create Mock Data\n",
    "\n",
    "We will populate each of our 4 tables with small, realistic sample data. First, our imaginary Business Units."
   ]
  },
  {
   "cell_type": "code",
   "execution_count": 107,
   "id": "d9b34c62-45fc-49e8-9b94-ac12b082c67f",
   "metadata": {},
   "outputs": [
    {
     "name": "stdout",
     "output_type": "stream",
     "text": [
      " * sqlite:///test_capital_project.db\n",
      "4 rows affected.\n",
      "Done.\n"
     ]
    },
    {
     "data": {
      "text/html": [
       "<table>\n",
       "    <thead>\n",
       "        <tr>\n",
       "            <th>unit_id</th>\n",
       "            <th>unit_name</th>\n",
       "        </tr>\n",
       "    </thead>\n",
       "    <tbody>\n",
       "        <tr>\n",
       "            <td>1</td>\n",
       "            <td>Retail Banking</td>\n",
       "        </tr>\n",
       "        <tr>\n",
       "            <td>2</td>\n",
       "            <td>Commercial Lending</td>\n",
       "        </tr>\n",
       "        <tr>\n",
       "            <td>3</td>\n",
       "            <td>Credit Cards</td>\n",
       "        </tr>\n",
       "        <tr>\n",
       "            <td>4</td>\n",
       "            <td>Wealth Management</td>\n",
       "        </tr>\n",
       "    </tbody>\n",
       "</table>"
      ],
      "text/plain": [
       "[(1, 'Retail Banking'),\n",
       " (2, 'Commercial Lending'),\n",
       " (3, 'Credit Cards'),\n",
       " (4, 'Wealth Management')]"
      ]
     },
     "execution_count": 107,
     "metadata": {},
     "output_type": "execute_result"
    }
   ],
   "source": [
    "%%sql\n",
    "INSERT INTO business_units (unit_id, unit_name) VALUES\n",
    "(1, 'Retail Banking'),\n",
    "(2, 'Commercial Lending'),\n",
    "(3, 'Credit Cards'),\n",
    "(4, 'Wealth Management');\n",
    "SELECT * FROM business_units"
   ]
  },
  {
   "cell_type": "markdown",
   "id": "85ff66ca-f93e-4ef4-b5fd-f7075b762ac2",
   "metadata": {},
   "source": [
    "Second, we will insert Asset and Liability values for two ending periods one End-of-Year and one Mid-Year. When we created our tables we assigned our unit_id columns as foreign keys to match to the primary key of the business_units table."
   ]
  },
  {
   "cell_type": "code",
   "execution_count": 108,
   "id": "4ec79576-d7cc-4654-a834-0dd1acdf718d",
   "metadata": {},
   "outputs": [
    {
     "name": "stdout",
     "output_type": "stream",
     "text": [
      " * sqlite:///test_capital_project.db\n",
      "8 rows affected.\n",
      "Done.\n"
     ]
    },
    {
     "data": {
      "text/html": [
       "<table>\n",
       "    <thead>\n",
       "        <tr>\n",
       "            <th>bank_id</th>\n",
       "            <th>unit_id</th>\n",
       "            <th>report_date</th>\n",
       "            <th>risk_weighted_exposure</th>\n",
       "            <th>cet1_capital</th>\n",
       "            <th>at1_capital</th>\n",
       "            <th>tier2_capital</th>\n",
       "        </tr>\n",
       "    </thead>\n",
       "    <tbody>\n",
       "        <tr>\n",
       "            <td>1</td>\n",
       "            <td>1</td>\n",
       "            <td>2023-12-31</td>\n",
       "            <td>4000000.0</td>\n",
       "            <td>225000.0</td>\n",
       "            <td>75000.0</td>\n",
       "            <td>100000.0</td>\n",
       "        </tr>\n",
       "        <tr>\n",
       "            <td>2</td>\n",
       "            <td>2</td>\n",
       "            <td>2023-12-31</td>\n",
       "            <td>7000000.0</td>\n",
       "            <td>360000.0</td>\n",
       "            <td>120000.0</td>\n",
       "            <td>160000.0</td>\n",
       "        </tr>\n",
       "        <tr>\n",
       "            <td>3</td>\n",
       "            <td>3</td>\n",
       "            <td>2023-12-31</td>\n",
       "            <td>5500000.0</td>\n",
       "            <td>270000.0</td>\n",
       "            <td>90000.0</td>\n",
       "            <td>120000.0</td>\n",
       "        </tr>\n",
       "        <tr>\n",
       "            <td>4</td>\n",
       "            <td>4</td>\n",
       "            <td>2023-12-31</td>\n",
       "            <td>7000000.0</td>\n",
       "            <td>405000.0</td>\n",
       "            <td>135000.0</td>\n",
       "            <td>180000.0</td>\n",
       "        </tr>\n",
       "        <tr>\n",
       "            <td>5</td>\n",
       "            <td>1</td>\n",
       "            <td>2024-06-30</td>\n",
       "            <td>4100000.0</td>\n",
       "            <td>229500.0</td>\n",
       "            <td>76500.0</td>\n",
       "            <td>102000.0</td>\n",
       "        </tr>\n",
       "        <tr>\n",
       "            <td>6</td>\n",
       "            <td>2</td>\n",
       "            <td>2024-06-30</td>\n",
       "            <td>7100000.0</td>\n",
       "            <td>369000.0</td>\n",
       "            <td>123000.0</td>\n",
       "            <td>164000.0</td>\n",
       "        </tr>\n",
       "        <tr>\n",
       "            <td>7</td>\n",
       "            <td>3</td>\n",
       "            <td>2024-06-30</td>\n",
       "            <td>5600000.0</td>\n",
       "            <td>274500.0</td>\n",
       "            <td>91500.0</td>\n",
       "            <td>122000.0</td>\n",
       "        </tr>\n",
       "        <tr>\n",
       "            <td>8</td>\n",
       "            <td>4</td>\n",
       "            <td>2024-06-30</td>\n",
       "            <td>7100000.0</td>\n",
       "            <td>409500.0</td>\n",
       "            <td>136500.0</td>\n",
       "            <td>182000.0</td>\n",
       "        </tr>\n",
       "    </tbody>\n",
       "</table>"
      ],
      "text/plain": [
       "[(1, 1, '2023-12-31', 4000000.0, 225000.0, 75000.0, 100000.0),\n",
       " (2, 2, '2023-12-31', 7000000.0, 360000.0, 120000.0, 160000.0),\n",
       " (3, 3, '2023-12-31', 5500000.0, 270000.0, 90000.0, 120000.0),\n",
       " (4, 4, '2023-12-31', 7000000.0, 405000.0, 135000.0, 180000.0),\n",
       " (5, 1, '2024-06-30', 4100000.0, 229500.0, 76500.0, 102000.0),\n",
       " (6, 2, '2024-06-30', 7100000.0, 369000.0, 123000.0, 164000.0),\n",
       " (7, 3, '2024-06-30', 5600000.0, 274500.0, 91500.0, 122000.0),\n",
       " (8, 4, '2024-06-30', 7100000.0, 409500.0, 136500.0, 182000.0)]"
      ]
     },
     "execution_count": 108,
     "metadata": {},
     "output_type": "execute_result"
    }
   ],
   "source": [
    "%%sql\n",
    "\n",
    "INSERT INTO balance_sheets (bank_id, unit_id, report_date, risk_weighted_exposure, cet1_capital, at1_capital, tier2_capital) VALUES\n",
    "(1, 1, '2023-12-31', 4000000, 225000, 75000, 100000),\n",
    "(2, 2, '2023-12-31', 7000000, 360000, 120000, 160000),\n",
    "(3, 3, '2023-12-31', 5500000, 270000, 90000, 120000),\n",
    "(4, 4, '2023-12-31', 7000000, 405000, 135000, 180000),\n",
    "(5, 1, '2024-06-30', 4100000, 229500, 76500, 102000),\n",
    "(6, 2, '2024-06-30', 7100000, 369000, 123000, 164000),\n",
    "(7, 3, '2024-06-30', 5600000, 274500, 91500, 122000),\n",
    "(8, 4, '2024-06-30', 7100000, 409500, 136500, 182000);\n",
    "\n",
    "SELECT * FROM balance_sheets"
   ]
  },
  {
   "cell_type": "markdown",
   "id": "2dfb5ee8-e548-4655-b842-75a9296450d3",
   "metadata": {},
   "source": [
    "For simplicity and the purpoose of demonstrating SQL skills we kept the values and names straighforward: even numbers and assets and liablities.\n",
    "\n",
    "In reality\n",
    "\n",
    "The idea is the same, one numnber needing to be x% larger than another.\n",
    "\n",
    "Could have done pass fail on each tier individually, or did how many out of 3 meet the crieria for minimum percentages. Heatmap with which ones pass and fail in python?"
   ]
  },
  {
   "cell_type": "code",
   "execution_count": 109,
   "id": "4e3c1333-6231-42cd-9d83-7f7d4a07f96a",
   "metadata": {},
   "outputs": [
    {
     "name": "stdout",
     "output_type": "stream",
     "text": [
      " * sqlite:///test_capital_project.db\n",
      "3 rows affected.\n",
      "Done.\n"
     ]
    },
    {
     "data": {
      "text/html": [
       "<table>\n",
       "    <thead>\n",
       "        <tr>\n",
       "            <th>buffer_id</th>\n",
       "            <th>unit_id</th>\n",
       "            <th>tier</th>\n",
       "            <th>min_capital_ratio</th>\n",
       "        </tr>\n",
       "    </thead>\n",
       "    <tbody>\n",
       "        <tr>\n",
       "            <td>1</td>\n",
       "            <td>1</td>\n",
       "            <td>CET1</td>\n",
       "            <td>0.045</td>\n",
       "        </tr>\n",
       "        <tr>\n",
       "            <td>2</td>\n",
       "            <td>2</td>\n",
       "            <td>Tier 1</td>\n",
       "            <td>0.015</td>\n",
       "        </tr>\n",
       "        <tr>\n",
       "            <td>3</td>\n",
       "            <td>3</td>\n",
       "            <td>Tier 2</td>\n",
       "            <td>0.02</td>\n",
       "        </tr>\n",
       "    </tbody>\n",
       "</table>"
      ],
      "text/plain": [
       "[(1, 1, 'CET1', 0.045), (2, 2, 'Tier 1', 0.015), (3, 3, 'Tier 2', 0.02)]"
      ]
     },
     "execution_count": 109,
     "metadata": {},
     "output_type": "execute_result"
    }
   ],
   "source": [
    "%%sql\n",
    "INSERT INTO regulatory_requirements (buffer_id, unit_id, tier, min_capital_ratio) VALUES\n",
    "(1, 1, 'CET1', 0.045),\n",
    "(2, 2, 'Tier 1',0.015),\n",
    "(3, 3, 'Tier 2', 0.02);\n",
    "SELECT * FROM regulatory_requirements"
   ]
  },
  {
   "cell_type": "code",
   "execution_count": 110,
   "id": "5bf0fcd0-297e-4b42-be0b-f9c9fe20e2c0",
   "metadata": {},
   "outputs": [
    {
     "name": "stdout",
     "output_type": "stream",
     "text": [
      " * sqlite:///test_capital_project.db\n",
      "(sqlite3.OperationalError) table forecast_assumptions has no column named cet1_multiplier\n",
      "[SQL: INSERT INTO forecast_assumptions (assumption_id, scenario_name, cet1_multiplier, at1_multiplier, tier2_ultiplier, rwa_multiplier) VALUES\n",
      "(1, 'Baseline', 1.00, 1.00, 1.00, 1.00),\n",
      "(2, 'Mild Recession', 0.98, .097, 0.95, 1.05),\n",
      "(3, 'Severe Recession', 0.90, 0.85, 0.80, 1.20),\n",
      "(4, 'Expansion', 1.03, 1.02, 1.01, 1.05);]\n",
      "(Background on this error at: https://sqlalche.me/e/14/e3q8)\n"
     ]
    }
   ],
   "source": [
    "%%sql\n",
    "INSERT INTO forecast_assumptions (assumption_id, scenario_name, cet1_multiplier, at1_multiplier, tier2_ultiplier, rwa_multiplier) VALUES\n",
    "(1, 'Baseline', 1.00, 1.00, 1.00, 1.00),\n",
    "(2, 'Mild Recession', 0.98, .097, 0.95, 1.05),\n",
    "(3, 'Severe Recession', 0.90, 0.85, 0.80, 1.20),\n",
    "(4, 'Expansion', 1.03, 1.02, 1.01, 1.05);\n",
    "SELECT * FROM forecast_assumptions"
   ]
  },
  {
   "cell_type": "code",
   "execution_count": null,
   "id": "3272994e-0f87-4939-b5bf-d25ed022fa5a",
   "metadata": {},
   "outputs": [],
   "source": [
    "CASE\n",
    "        WHEN (\n",
    "            (bs.assets * fa.asset_multiplier - bs.liabilities * fa.liab_multiplier)\n",
    "            / NULLIF(bs.assets * fa.asset_multiplier, 0)\n",
    "        ) >= cb.min_capital_ratio THEN 'PASS'\n",
    "        ELSE 'FAIL'\n",
    "    END AS stress_test_result"
   ]
  },
  {
   "cell_type": "code",
   "execution_count": null,
   "id": "9e8f3218-dd74-4b22-be6b-897461cfdd9b",
   "metadata": {},
   "outputs": [],
   "source": [
    "%%sql\n",
    "SELECT \n",
    "    bu.unit_name,\n",
    "    bs.report_date,\n",
    "    bs.cet1_capital,\n",
    "    bs.at1_capital,\n",
    "    bs.tier2_capital,\n",
    "    bs.risk_weighted_exposure,\n",
    "    rr.min_capital_ratio,\n",
    "    ROUND(bs.cet1_capital + bs.at1_capital + bs.tier2_capital, 2) AS total_capital,\n",
    "    CASE\n",
    "        WHEN \n",
    "            bs.cet1_capital >= ROUND(bs.cet1_capital + bs.at1_capital + bs.tier2_capital, 2) * 0.045\n",
    "            THEN 'PASS'\n",
    "        ELSE 'FAIL'\n",
    "    END AS stress_test_result\n",
    "FROM balance_sheets bs\n",
    "INNER JOIN business_units bu\n",
    "    ON bs.unit_id = bu.unit_id\n",
    "LEFT JOIN regulatory_requirements rr\n",
    "    ON bs.unit_id = cb.unit_id;"
   ]
  },
  {
   "cell_type": "markdown",
   "id": "b0b1ba22-3fc7-4418-ac3f-e55dff6c76f8",
   "metadata": {},
   "source": [
    "Some of our records failed in our percentage requirements. We will simply discard these records for now. When we move this dataset to pandas later in our analysis, we will pinpoint exactly which ones and why."
   ]
  },
  {
   "cell_type": "markdown",
   "id": "f1abd8d8-4404-4bc3-a63f-ad2aa4662791",
   "metadata": {},
   "source": [
    "## 4.Build our Queries"
   ]
  },
  {
   "cell_type": "markdown",
   "id": "2603a0ce-52dd-4078-aea7-14c9996fa92f",
   "metadata": {},
   "source": [
    "Now we have joined the tables for each of our 4 business units for the end of year and mid-year data, as well as the our made up minimum capital ratios.\n",
    "\n",
    "Next we will CROSS JOIN our forecast data, since having a foreign key for that table would not make sense. This will lead to a record for each business unit, report date, and economic scenario. We will also include a stress_test_result column to easily identify where our winners and losers are in each scenario.\n",
    "\n",
    "Our output will be our new table: "
   ]
  },
  {
   "cell_type": "code",
   "execution_count": null,
   "id": "b58246a2-27c3-4404-a198-bc12b4d27992",
   "metadata": {},
   "outputs": [],
   "source": [
    "%%sql\n",
    "DROP VIEW IF EXISTS capital_projection_view;\n",
    "\n",
    "CREATE VIEW capital_projection_view AS\n",
    "SELECT\n",
    "    fa.scenario_name,\n",
    "    bu.unit_name,\n",
    "    bs.report_date,\n",
    "    ROUND(bs.assets * fa.asset_multiplier, 2) AS projected_assets,\n",
    "    ROUND(bs.liabilities * fa.liab_multiplier, 2) AS projected_liabilities,\n",
    "    ROUND(\n",
    "        (bs.assets * fa.asset_multiplier - bs.liabilities * fa.liab_multiplier)\n",
    "        / NULLIF(bs.assets * fa.asset_multiplier, 0), \n",
    "        4\n",
    "    ) AS projected_capital_ratio,\n",
    "    cb.min_capital_ratio,\n",
    "    CASE\n",
    "        WHEN (\n",
    "            (bs.assets * fa.asset_multiplier - bs.liabilities * fa.liab_multiplier)\n",
    "            / NULLIF(bs.assets * fa.asset_multiplier, 0)\n",
    "        ) >= cb.min_capital_ratio THEN 'PASS'\n",
    "        ELSE 'FAIL'\n",
    "    END AS stress_test_result\n",
    "FROM balance_sheets bs\n",
    "JOIN business_units bu ON bs.unit_id = bu.unit_id\n",
    "JOIN capital_buffers cb ON bs.unit_id = cb.unit_id\n",
    "CROSS JOIN forecast_assumptions fa\n",
    "ORDER BY fa.scenario_name, bu.unit_name, bs.report_date;\n",
    "\n",
    "SELECT * FROM capital_projection_view"
   ]
  },
  {
   "cell_type": "code",
   "execution_count": null,
   "id": "7a40ec81-45f9-4256-9279-aa0c01463cad",
   "metadata": {},
   "outputs": [],
   "source": [
    "import pandas as pd\n",
    "\n",
    "result = %sql SELECT * FROM capital_projection_view\n",
    "df = result.DataFrame()\n",
    "df"
   ]
  },
  {
   "cell_type": "code",
   "execution_count": null,
   "id": "1d5820b0-f6d5-4551-862a-b582ad122aa1",
   "metadata": {},
   "outputs": [],
   "source": [
    "import seaborn as sns\n",
    "import matplotlib.pyplot as plt\n",
    "\n",
    "# Set seaborn style\n",
    "sns.set(style=\"whitegrid\")\n",
    "\n",
    "# Plot projected capital ratios for each unit under different scenarios\n",
    "plt.figure(figsize=(10, 6))\n",
    "sns.barplot(\n",
    "    data=df,\n",
    "    x='unit_name',\n",
    "    y='projected_capital_ratio',\n",
    "    hue='scenario_name'\n",
    ")\n",
    "plt.axhline(0.08, color='red', linestyle='--', label='Target Ratio (8%)')  # Basel III min benchmark\n",
    "plt.title('Projected Capital Ratios by Unit and Scenario')\n",
    "plt.ylabel('Capital Ratio')\n",
    "plt.xlabel('Business Unit')\n",
    "plt.legend()\n",
    "plt.tight_layout()\n",
    "plt.show()"
   ]
  },
  {
   "cell_type": "markdown",
   "id": "a24dbf39-8323-4c11-ab74-47a2f8cda077",
   "metadata": {},
   "source": [
    "While none of our departments meet our Target Ratio in the case of a Severe Recession, Retail Banking and Wealth Managemnet remain resilient in every other circumstance. Next, in ascending order of fragility, is Commercial Lending and Credit Cards; with Credit Cards even dipping into having net negative assets in even a mild recession."
   ]
  },
  {
   "cell_type": "code",
   "execution_count": null,
   "id": "1c9395c5-5f8d-45dc-9b76-1ccd4943c3a4",
   "metadata": {},
   "outputs": [],
   "source": [
    "# Heatmap for which tiers in which department don't pass muster"
   ]
  }
 ],
 "metadata": {
  "kernelspec": {
   "display_name": "Python 3 (ipykernel)",
   "language": "python",
   "name": "python3"
  },
  "language_info": {
   "codemirror_mode": {
    "name": "ipython",
    "version": 3
   },
   "file_extension": ".py",
   "mimetype": "text/x-python",
   "name": "python",
   "nbconvert_exporter": "python",
   "pygments_lexer": "ipython3",
   "version": "3.11.13"
  }
 },
 "nbformat": 4,
 "nbformat_minor": 5
}
