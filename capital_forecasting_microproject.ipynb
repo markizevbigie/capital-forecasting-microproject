{
 "cells": [
  {
   "cell_type": "code",
   "execution_count": 6,
   "id": "66f22ee2-eb33-4690-bd9b-2e8569713903",
   "metadata": {},
   "outputs": [
    {
     "data": {
      "text/plain": [
       "'Connected: @test_capital_project.db'"
      ]
     },
     "execution_count": 6,
     "metadata": {},
     "output_type": "execute_result"
    }
   ],
   "source": [
    "%reload_ext sql\n",
    "%sql sqlite:///test_capital_project.db"
   ]
  },
  {
   "cell_type": "markdown",
   "id": "d7ae9413-7559-4849-bb17-d84519926571",
   "metadata": {},
   "source": [
    "**Basic SQL Reminder Notes**\n",
    "\n",
    "SELECT *\n",
    "\n",
    "FROM *\n",
    "\n",
    "WHERE *\n",
    "\n",
    "\"%\" is wildcard for strings\n",
    "\n",
    "\"XOR\" for one or other, but not both\n",
    "\n",
    "ORDER BY [column name] asc/desc (asc/desc can be used after individual columns\n",
    "\n",
    "ROUND works as we understand\n",
    "--------\n",
    "\n",
    "IN for lists Example:\n",
    "-----\n",
    "SELECT name FROM bbc\n",
    "  WHERE name IN ('Sri Lanka', 'Ceylon',\n",
    "                 'Persia',    'Iran')\n",
    "\n",
    "\n",
    "**Multiple, indepnedent clauses are possible. Note the parentheses**\n",
    "\n",
    "SELECT * FROM nobel\n",
    "\n",
    "  WHERE subject IN ('physics')\n",
    "  \n",
    "  AND yr IN (1980)\n",
    "  \n",
    "  OR\n",
    "  \n",
    "  (subject IN ('chemistry')\n",
    "  AND yr IN (1984))\n"
   ]
  },
  {
   "cell_type": "code",
   "execution_count": 11,
   "id": "a39485c5-61f1-489f-a899-78b15cc98e7d",
   "metadata": {},
   "outputs": [
    {
     "name": "stdout",
     "output_type": "stream",
     "text": [
      " * sqlite:///test_capital_project.db\n",
      "Done.\n",
      "Done.\n",
      "Done.\n"
     ]
    },
    {
     "data": {
      "text/plain": [
       "[]"
      ]
     },
     "execution_count": 11,
     "metadata": {},
     "output_type": "execute_result"
    }
   ],
   "source": [
    "%%sql\n",
    "\n",
    "DROP TABLE IF EXISTS balance_sheets;\n",
    "\n",
    "CREATE TABLE business_units (\n",
    "    unit_id INTEGER,\n",
    "    unit_name TEXT,\n",
    "    category TEXT\n",
    ");\n",
    "\n",
    "CREATE TABLE balance_sheets (\n",
    "    entry_id INTERGER,\n",
    "    unit_id INTEGER,\n",
    "    report_date DATE\n",
    "    assets FLOAT\n",
    "    liabilities FLOAT\n",
    "    equity FLOAT\n",
    ");"
   ]
  },
  {
   "cell_type": "code",
   "execution_count": 8,
   "id": "d9b34c62-45fc-49e8-9b94-ac12b082c67f",
   "metadata": {},
   "outputs": [
    {
     "name": "stdout",
     "output_type": "stream",
     "text": [
      " * sqlite:///test_capital_project.db\n",
      "2 rows affected.\n"
     ]
    },
    {
     "data": {
      "text/plain": [
       "[]"
      ]
     },
     "execution_count": 8,
     "metadata": {},
     "output_type": "execute_result"
    }
   ],
   "source": [
    "%%sql\n",
    "INSERT INTO balance_sheets (unit, assets, liabilities) VALUES\n",
    "('Retail Banking', 1000000, 750000),\n",
    "('Credit Cards', 2000000, 1800000);"
   ]
  },
  {
   "cell_type": "code",
   "execution_count": 9,
   "id": "d023ff2e-7c78-444c-afcb-06caf75fa6c0",
   "metadata": {},
   "outputs": [
    {
     "name": "stdout",
     "output_type": "stream",
     "text": [
      " * sqlite:///test_capital_project.db\n",
      "Done.\n"
     ]
    },
    {
     "data": {
      "text/html": [
       "<table>\n",
       "    <thead>\n",
       "        <tr>\n",
       "            <th>unit</th>\n",
       "            <th>assets</th>\n",
       "            <th>liabilities</th>\n",
       "        </tr>\n",
       "    </thead>\n",
       "    <tbody>\n",
       "        <tr>\n",
       "            <td>Retail Banking</td>\n",
       "            <td>1000000.0</td>\n",
       "            <td>750000.0</td>\n",
       "        </tr>\n",
       "        <tr>\n",
       "            <td>Credit Cards</td>\n",
       "            <td>2000000.0</td>\n",
       "            <td>1800000.0</td>\n",
       "        </tr>\n",
       "    </tbody>\n",
       "</table>"
      ],
      "text/plain": [
       "[('Retail Banking', 1000000.0, 750000.0),\n",
       " ('Credit Cards', 2000000.0, 1800000.0)]"
      ]
     },
     "execution_count": 9,
     "metadata": {},
     "output_type": "execute_result"
    }
   ],
   "source": [
    "%%sql\n",
    "SELECT * FROM balance_sheets;"
   ]
  },
  {
   "cell_type": "code",
   "execution_count": 10,
   "id": "7a40ec81-45f9-4256-9279-aa0c01463cad",
   "metadata": {},
   "outputs": [
    {
     "name": "stdout",
     "output_type": "stream",
     "text": [
      " * sqlite:///test_capital_project.db\n",
      "Done.\n"
     ]
    },
    {
     "data": {
      "text/html": [
       "<div>\n",
       "<style scoped>\n",
       "    .dataframe tbody tr th:only-of-type {\n",
       "        vertical-align: middle;\n",
       "    }\n",
       "\n",
       "    .dataframe tbody tr th {\n",
       "        vertical-align: top;\n",
       "    }\n",
       "\n",
       "    .dataframe thead th {\n",
       "        text-align: right;\n",
       "    }\n",
       "</style>\n",
       "<table border=\"1\" class=\"dataframe\">\n",
       "  <thead>\n",
       "    <tr style=\"text-align: right;\">\n",
       "      <th></th>\n",
       "      <th>unit</th>\n",
       "      <th>assets</th>\n",
       "      <th>liabilities</th>\n",
       "    </tr>\n",
       "  </thead>\n",
       "  <tbody>\n",
       "    <tr>\n",
       "      <th>0</th>\n",
       "      <td>Retail Banking</td>\n",
       "      <td>1000000.0</td>\n",
       "      <td>750000.0</td>\n",
       "    </tr>\n",
       "    <tr>\n",
       "      <th>1</th>\n",
       "      <td>Credit Cards</td>\n",
       "      <td>2000000.0</td>\n",
       "      <td>1800000.0</td>\n",
       "    </tr>\n",
       "  </tbody>\n",
       "</table>\n",
       "</div>"
      ],
      "text/plain": [
       "             unit     assets  liabilities\n",
       "0  Retail Banking  1000000.0     750000.0\n",
       "1    Credit Cards  2000000.0    1800000.0"
      ]
     },
     "execution_count": 10,
     "metadata": {},
     "output_type": "execute_result"
    }
   ],
   "source": [
    "import pandas as pd\n",
    "\n",
    "result = %sql SELECT * FROM balance_sheets\n",
    "df = result.DataFrame()\n",
    "df.head()"
   ]
  },
  {
   "cell_type": "code",
   "execution_count": 12,
   "id": "a9ece372-2df6-497d-aeff-be16ad7d3065",
   "metadata": {},
   "outputs": [
    {
     "name": "stdout",
     "output_type": "stream",
     "text": [
      " * sqlite:///test_capital_project.db\n",
      "Done.\n"
     ]
    },
    {
     "data": {
      "text/html": [
       "<table>\n",
       "    <thead>\n",
       "        <tr>\n",
       "            <th>unit_id</th>\n",
       "            <th>assets</th>\n",
       "            <th>liabilities</th>\n",
       "        </tr>\n",
       "    </thead>\n",
       "    <tbody>\n",
       "    </tbody>\n",
       "</table>"
      ],
      "text/plain": [
       "[]"
      ]
     },
     "execution_count": 12,
     "metadata": {},
     "output_type": "execute_result"
    }
   ],
   "source": [
    "%%sql\n",
    "SELECT * FROM business_units;"
   ]
  }
 ],
 "metadata": {
  "kernelspec": {
   "display_name": "Python 3 (ipykernel)",
   "language": "python",
   "name": "python3"
  },
  "language_info": {
   "codemirror_mode": {
    "name": "ipython",
    "version": 3
   },
   "file_extension": ".py",
   "mimetype": "text/x-python",
   "name": "python",
   "nbconvert_exporter": "python",
   "pygments_lexer": "ipython3",
   "version": "3.11.13"
  }
 },
 "nbformat": 4,
 "nbformat_minor": 5
}
