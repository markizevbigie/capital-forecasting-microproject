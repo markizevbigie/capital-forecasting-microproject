{
 "cells": [
  {
   "cell_type": "code",
   "execution_count": 1,
   "id": "66f22ee2-eb33-4690-bd9b-2e8569713903",
   "metadata": {},
   "outputs": [
    {
     "data": {
      "text/plain": [
       "'Connected: @test_capital_project.db'"
      ]
     },
     "execution_count": 1,
     "metadata": {},
     "output_type": "execute_result"
    }
   ],
   "source": [
    "%reload_ext sql\n",
    "%sql sqlite:///test_capital_project.db"
   ]
  },
  {
   "cell_type": "code",
   "execution_count": null,
   "id": "a39485c5-61f1-489f-a899-78b15cc98e7d",
   "metadata": {},
   "outputs": [],
   "source": [
    "%%sql\n",
    "CREATE TABLE balance_sheets (\n",
    "    unit TEXT,\n",
    "    assets REAL,\n",
    "    liabilities REAL\n",
    ");"
   ]
  },
  {
   "cell_type": "code",
   "execution_count": null,
   "id": "d9b34c62-45fc-49e8-9b94-ac12b082c67f",
   "metadata": {},
   "outputs": [],
   "source": []
  }
 ],
 "metadata": {
  "kernelspec": {
   "display_name": "Python 3 (ipykernel)",
   "language": "python",
   "name": "python3"
  },
  "language_info": {
   "codemirror_mode": {
    "name": "ipython",
    "version": 3
   },
   "file_extension": ".py",
   "mimetype": "text/x-python",
   "name": "python",
   "nbconvert_exporter": "python",
   "pygments_lexer": "ipython3",
   "version": "3.11.13"
  }
 },
 "nbformat": 4,
 "nbformat_minor": 5
}
