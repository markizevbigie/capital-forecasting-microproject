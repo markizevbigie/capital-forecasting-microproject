{
 "cells": [
  {
   "cell_type": "markdown",
   "id": "d7ae9413-7559-4849-bb17-d84519926571",
   "metadata": {},
   "source": [
    "**Basic SQL Reminder Notes**\n",
    "\n",
    "SELECT *\n",
    "\n",
    "FROM *\n",
    "\n",
    "WHERE *\n",
    "\n",
    "\"%\" is wildcard for strings\n",
    "\n",
    "\"XOR\" for one or other, but not both\n",
    "\n",
    "ORDER BY [column name] asc/desc (asc/desc can be used after individual columns\n",
    "\n",
    "ROUND works as we understand\n",
    "--------\n",
    "\n",
    "IN for lists Example:\n",
    "-----\n",
    "SELECT name FROM bbc\n",
    "  WHERE name IN ('Sri Lanka', 'Ceylon',\n",
    "                 'Persia',    'Iran')\n",
    "\n",
    "\n",
    "**Multiple, indepnedent clauses are possible. Note the parentheses**\n",
    "\n",
    "SELECT * FROM nobel\n",
    "\n",
    "  WHERE subject IN ('physics')\n",
    "  \n",
    "  AND yr IN (1980)\n",
    "  \n",
    "  OR\n",
    "  \n",
    "  (subject IN ('chemistry')\n",
    "  AND yr IN (1984))\n",
    "\n",
    "ERD - Entity Relationship Diagram"
   ]
  },
  {
   "cell_type": "code",
   "execution_count": 13,
   "id": "66f22ee2-eb33-4690-bd9b-2e8569713903",
   "metadata": {},
   "outputs": [
    {
     "data": {
      "text/plain": [
       "'Connected: @test_capital_project.db'"
      ]
     },
     "execution_count": 13,
     "metadata": {},
     "output_type": "execute_result"
    }
   ],
   "source": [
    "%reload_ext sql\n",
    "%sql sqlite:///test_capital_project.db"
   ]
  },
  {
   "cell_type": "code",
   "execution_count": 28,
   "id": "a39485c5-61f1-489f-a899-78b15cc98e7d",
   "metadata": {},
   "outputs": [
    {
     "name": "stdout",
     "output_type": "stream",
     "text": [
      " * sqlite:///test_capital_project.db\n",
      "Done.\n",
      "Done.\n",
      "Done.\n",
      "Done.\n",
      "Done.\n",
      "Done.\n",
      "Done.\n",
      "Done.\n"
     ]
    },
    {
     "data": {
      "text/plain": [
       "[]"
      ]
     },
     "execution_count": 28,
     "metadata": {},
     "output_type": "execute_result"
    }
   ],
   "source": [
    "%%sql\n",
    "\n",
    "DROP TABLE IF EXISTS balance_sheets;\n",
    "DROP TABLE IF EXISTS business_units;\n",
    "DROP TABLE IF EXISTS capital_buffers;\n",
    "DROP TABLE IF EXISTS forecast_assumptions;\n",
    "\n",
    "CREATE TABLE business_units (\n",
    "    unit_id INTEGER PRIMARY KEY,\n",
    "    unit_name TEXT NOT NULL\n",
    ");\n",
    "\n",
    "CREATE TABLE balance_sheets (\n",
    "    entry_id INTERGER PRIMARY KEY,\n",
    "    unit_id INTEGER NOT NULL,\n",
    "    report_date DATE NOT NULL,\n",
    "    assets FLOAT NOT NULL,\n",
    "    liabilities FLOAT NOT NULL,\n",
    "    FOREIGN KEY (unit_id) REFERENCES business_units(unit_id)\n",
    ");\n",
    "\n",
    "CREATE TABLE capital_buffers (\n",
    "    buffer_id INTEGER PRIMARY KEY,\n",
    "    unit_id INTEGER NOT NULL,\n",
    "    min_capital_ratio FLOAT NOT NULL,\n",
    "    FOREIGN KEY (unit_id) REFERENCES business_units(unit_id)\n",
    ");\n",
    "\n",
    "CREATE TABLE forecast_assumptions (\n",
    "    assumption_id INTEGER PRIMARY KEY,\n",
    "    scenario_name TEXT NOT NULL,\n",
    "    asset_multiplier FLOAT NOT NULL,\n",
    "    liab_multiplier FLOAT NOT NULL\n",
    ");"
   ]
  },
  {
   "cell_type": "code",
   "execution_count": 33,
   "id": "d9b34c62-45fc-49e8-9b94-ac12b082c67f",
   "metadata": {},
   "outputs": [
    {
     "name": "stdout",
     "output_type": "stream",
     "text": [
      " * sqlite:///test_capital_project.db\n",
      "4 rows affected.\n"
     ]
    },
    {
     "data": {
      "text/plain": [
       "[]"
      ]
     },
     "execution_count": 33,
     "metadata": {},
     "output_type": "execute_result"
    }
   ],
   "source": [
    "%%sql\n",
    "INSERT INTO business_units (unit_id, unit_name) VALUES\n",
    "(1, 'Retail Banking'),\n",
    "(2, 'Commercial Lending'),\n",
    "(3, 'Credit Cards'),\n",
    "(4, 'Wealth Management');"
   ]
  },
  {
   "cell_type": "code",
   "execution_count": 34,
   "id": "6f97e46a-5524-4627-ae98-d64452702447",
   "metadata": {},
   "outputs": [
    {
     "name": "stdout",
     "output_type": "stream",
     "text": [
      " * sqlite:///test_capital_project.db\n",
      "Done.\n"
     ]
    },
    {
     "data": {
      "text/html": [
       "<table>\n",
       "    <thead>\n",
       "        <tr>\n",
       "            <th>unit_id</th>\n",
       "            <th>unit_name</th>\n",
       "        </tr>\n",
       "    </thead>\n",
       "    <tbody>\n",
       "        <tr>\n",
       "            <td>1</td>\n",
       "            <td>Retail Banking</td>\n",
       "        </tr>\n",
       "        <tr>\n",
       "            <td>2</td>\n",
       "            <td>Commercial Lending</td>\n",
       "        </tr>\n",
       "        <tr>\n",
       "            <td>3</td>\n",
       "            <td>Credit Cards</td>\n",
       "        </tr>\n",
       "        <tr>\n",
       "            <td>4</td>\n",
       "            <td>Wealth Management</td>\n",
       "        </tr>\n",
       "    </tbody>\n",
       "</table>"
      ],
      "text/plain": [
       "[(1, 'Retail Banking'),\n",
       " (2, 'Commercial Lending'),\n",
       " (3, 'Credit Cards'),\n",
       " (4, 'Wealth Management')]"
      ]
     },
     "execution_count": 34,
     "metadata": {},
     "output_type": "execute_result"
    }
   ],
   "source": [
    "%%sql\n",
    "SELECT * FROM business_units"
   ]
  },
  {
   "cell_type": "code",
   "execution_count": null,
   "id": "7a40ec81-45f9-4256-9279-aa0c01463cad",
   "metadata": {},
   "outputs": [],
   "source": [
    "import pandas as pd\n",
    "\n",
    "result = %sql SELECT * FROM balance_sheets\n",
    "df = result.DataFrame()\n",
    "df.head()"
   ]
  }
 ],
 "metadata": {
  "kernelspec": {
   "display_name": "Python 3 (ipykernel)",
   "language": "python",
   "name": "python3"
  },
  "language_info": {
   "codemirror_mode": {
    "name": "ipython",
    "version": 3
   },
   "file_extension": ".py",
   "mimetype": "text/x-python",
   "name": "python",
   "nbconvert_exporter": "python",
   "pygments_lexer": "ipython3",
   "version": "3.11.13"
  }
 },
 "nbformat": 4,
 "nbformat_minor": 5
}
